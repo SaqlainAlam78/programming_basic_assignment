{
 "cells": [
  {
   "cell_type": "code",
   "execution_count": 1,
   "id": "84fa0b1a",
   "metadata": {},
   "outputs": [
    {
     "data": {
      "text/plain": [
       "21"
      ]
     },
     "execution_count": 1,
     "metadata": {},
     "output_type": "execute_result"
    }
   ],
   "source": [
    "#1. Write a Python Program to find sum of array?\n",
    "\n",
    "def sum_(*args) :\n",
    "    sum = 0\n",
    "    for i in args :\n",
    "        sum = sum + i\n",
    "    return sum\n",
    "\n",
    "\n",
    "sum_(1,2,3,4,5,6)"
   ]
  },
  {
   "cell_type": "code",
   "execution_count": 4,
   "id": "35fc79b6",
   "metadata": {},
   "outputs": [
    {
     "name": "stdout",
     "output_type": "stream",
     "text": [
      "Length of array: 3\n",
      "1\n",
      "5\n",
      "3\n",
      "provided array: [1, 5, 3] \n",
      " and largest element in given array is: 5\n"
     ]
    }
   ],
   "source": [
    "#2. Write a Python Program to find largest element in an array?\n",
    "\n",
    "ar = []\n",
    "size = int(input(\"Length of array: \"))\n",
    "for i in range(size):\n",
    "    elements = int(input())\n",
    "    ar.append(elements)\n",
    "    \n",
    "print(\"provided array: {} \\n and largest element in given array is: {}\".format(ar,max(ar)))"
   ]
  },
  {
   "cell_type": "code",
   "execution_count": 5,
   "id": "fb386788",
   "metadata": {},
   "outputs": [
    {
     "name": "stdout",
     "output_type": "stream",
     "text": [
      "Length of array: 3\n",
      "50\n",
      "30\n",
      "20\n",
      "original array: [50, 30, 20] and \n",
      " rotated array is: [20, 30, 50]\n"
     ]
    }
   ],
   "source": [
    "#3. Write a Python Program for array rotation ?\n",
    "\n",
    "ar = []\n",
    "size = int(input(\"Length of array: \"))\n",
    "for i in range(size):\n",
    "    elements = int(input())\n",
    "    ar.append(elements)\n",
    "    \n",
    "print(\"original array: {} and \\n rotated array is: {}\".format(ar,ar[::-1]))\n",
    "\n"
   ]
  },
  {
   "cell_type": "code",
   "execution_count": 6,
   "id": "c7fed786",
   "metadata": {},
   "outputs": [
    {
     "name": "stdout",
     "output_type": "stream",
     "text": [
      "Length of array: 5\n",
      "1\n",
      "2\n",
      "3\n",
      "4\n",
      "5\n",
      "[1, 2, 3, 4, 5]\n",
      "splitted part is:  [1, 2]\n",
      "after spliting remaining array is:  [3, 4, 5]\n",
      "Final Array:  [3, 4, 5, 1, 2]\n"
     ]
    }
   ],
   "source": [
    "#4. Write a Python Program to Split the array and add the first part to the end?\n",
    "\n",
    "array = []\n",
    "size = int(input(\"Length of array: \"))\n",
    "for i in range(size):\n",
    "    elements = int(input())\n",
    "    array.append(elements)\n",
    "print(array)\n",
    "\n",
    "mid = size//2\n",
    "\n",
    "split = array[:mid]\n",
    "print(\"splitted part is: \",split)\n",
    "\n",
    "array = array[mid:]\n",
    "print(\"after spliting remaining array is: \",array)\n",
    "\n",
    "array = array+split\n",
    "print(\"Final Array: \",array)\n",
    "\n",
    "\n",
    "\n"
   ]
  },
  {
   "cell_type": "code",
   "execution_count": 7,
   "id": "e5574adb",
   "metadata": {},
   "outputs": [
    {
     "name": "stdout",
     "output_type": "stream",
     "text": [
      "Length of array: 5\n",
      "2\n",
      "5\n",
      "5\n",
      "4\n",
      "1\n",
      "[2, 5, 5, 4, 1]\n",
      "False\n"
     ]
    }
   ],
   "source": [
    "#5. Write a Python Program to check if given array is Monotonic?\n",
    "\n",
    "def monotonic(array):\n",
    "    return(all(array[i]<=array[i+1] for i in range(len(array)-1)) or \n",
    "           all(array[i]>=array[i+1] for i in range(len(array)-1)))\n",
    "       \n",
    "array = []\n",
    "size = int(input(\"Length of array: \"))\n",
    "for i in range(size):\n",
    "    elements = int(input())\n",
    "    array.append(elements)\n",
    "print(array)\n",
    "\n",
    "print(monotonic(array))"
   ]
  }
 ],
 "metadata": {
  "kernelspec": {
   "display_name": "Python 3 (ipykernel)",
   "language": "python",
   "name": "python3"
  },
  "language_info": {
   "codemirror_mode": {
    "name": "ipython",
    "version": 3
   },
   "file_extension": ".py",
   "mimetype": "text/x-python",
   "name": "python",
   "nbconvert_exporter": "python",
   "pygments_lexer": "ipython3",
   "version": "3.9.7"
  }
 },
 "nbformat": 4,
 "nbformat_minor": 5
}
