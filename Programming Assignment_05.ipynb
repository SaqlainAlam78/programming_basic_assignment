{
 "cells": [
  {
   "cell_type": "code",
   "execution_count": 8,
   "id": "0b2ce168",
   "metadata": {},
   "outputs": [
    {
     "name": "stdout",
     "output_type": "stream",
     "text": [
      "the lcm of 2 and 3 is 6\n"
     ]
    }
   ],
   "source": [
    "#1. Write a Python Program to Find LCM?\n",
    "\n",
    "def lcm(a,b):\n",
    "    if a>b:\n",
    "        max = a\n",
    "    else:\n",
    "        max = b\n",
    "    while True:\n",
    "        if max%a==0 and max%b==0:\n",
    "            \n",
    "            print(\"the lcm of {} and {} is {}\".format(a,b, max))\n",
    "            break\n",
    "        max = max+1\n",
    "\n",
    "lcm(2,3)"
   ]
  },
  {
   "cell_type": "code",
   "execution_count": 11,
   "id": "033133f9",
   "metadata": {},
   "outputs": [
    {
     "name": "stdout",
     "output_type": "stream",
     "text": [
      "the hcf of 6 and 3 is 3\n"
     ]
    }
   ],
   "source": [
    "#2. Write a Python Program to Find HCF?\n",
    "\n",
    "def hcf(a,b):\n",
    "    if a<b:\n",
    "        min = a\n",
    "    else:\n",
    "        min = b\n",
    "    for i in range(1,min+1):\n",
    "        \n",
    "        if a%i==0 and b%i==0:\n",
    "            hcf=i\n",
    "            break\n",
    "    print(\"the hcf of {} and {} is {}\".format(a,b, min))\n",
    "\n",
    "\n",
    "hcf(6,3)"
   ]
  },
  {
   "cell_type": "code",
   "execution_count": 12,
   "id": "4c8099b0",
   "metadata": {},
   "outputs": [
    {
     "name": "stdout",
     "output_type": "stream",
     "text": [
      "Enter Decimal Number: 56\n",
      "Decimal to Binary:  0b111000\n",
      "Decimal to Octal:  0o70\n",
      "Decimal to Hexadecimal:  0x38\n"
     ]
    }
   ],
   "source": [
    "#3. Write a Python Program to Convert Decimal to Binary, Octal and Hexadecimal?\n",
    "\n",
    "num = int(input(\"Enter Decimal Number: \"))\n",
    "print(\"Decimal to Binary: \",bin(num))\n",
    "print(\"Decimal to Octal: \",oct(num))\n",
    "print(\"Decimal to Hexadecimal: \",hex(num))\n"
   ]
  },
  {
   "cell_type": "code",
   "execution_count": 14,
   "id": "57ac6f54",
   "metadata": {},
   "outputs": [
    {
     "data": {
      "text/plain": [
       "97"
      ]
     },
     "execution_count": 14,
     "metadata": {},
     "output_type": "execute_result"
    }
   ],
   "source": [
    "#4. Write a Python Program To Find ASCII value of a character?\n",
    "\n",
    "def ascii_value(character):\n",
    "    return ord(character)\n",
    "\n",
    "ascii_value(\"a\")\n",
    "\n"
   ]
  },
  {
   "cell_type": "code",
   "execution_count": 34,
   "id": "cfd0a9cd",
   "metadata": {},
   "outputs": [
    {
     "name": "stdout",
     "output_type": "stream",
     "text": [
      "enter which operation you want to perform *\n",
      "10 * 5 = 50\n"
     ]
    }
   ],
   "source": [
    "#5. Write a Python Program to Make a Simple Calculator with 4 basic mathematical operations?\n",
    "\n",
    "def calc(a,b) :\n",
    "    x = str(input(\"enter which operation you want to perform \"))\n",
    "    \n",
    "    if x=='+' :\n",
    "        \n",
    "        \n",
    "        print(\"{} + {} ={} \".format(a,b,a+b))\n",
    "        \n",
    "    elif x=='-' :\n",
    "        \n",
    "        \n",
    "        print(\"{} - {} = {}\".format(a,b,a-b))\n",
    "\n",
    "    elif x=='*' :\n",
    "\n",
    "        print(\"{} * {} = {}\".format(a,b,a*b))\n",
    "      \n",
    "    elif x=='/' :\n",
    "        \n",
    "        print(\"{} / {} = {}\".format(a,b,a/b))\n",
    "        \n",
    "    else :\n",
    "        \n",
    "        print(\"Not available\")\n",
    "\n",
    "calc(10,5)"
   ]
  }
 ],
 "metadata": {
  "kernelspec": {
   "display_name": "Python 3 (ipykernel)",
   "language": "python",
   "name": "python3"
  },
  "language_info": {
   "codemirror_mode": {
    "name": "ipython",
    "version": 3
   },
   "file_extension": ".py",
   "mimetype": "text/x-python",
   "name": "python",
   "nbconvert_exporter": "python",
   "pygments_lexer": "ipython3",
   "version": "3.9.7"
  }
 },
 "nbformat": 4,
 "nbformat_minor": 5
}
