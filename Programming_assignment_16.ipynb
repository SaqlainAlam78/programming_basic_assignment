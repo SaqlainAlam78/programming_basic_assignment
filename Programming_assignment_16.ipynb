{
 "cells": [
  {
   "cell_type": "code",
   "execution_count": null,
   "id": "5e651f04",
   "metadata": {},
   "outputs": [],
   "source": [
    "# 1.Write a function that stutters a word as if someone is struggling to read it. The first two letters are repeated twice with an ellipsis ... and space after each, and then the word is pronounced with a question mark ?\n",
    "# Examples: stutter(\"incredible\") ➞ \"in... in... incredible?\"\n",
    "# stutter(\"enthusiastic\") ➞ \"en... en... enthusiastic?\"\n",
    "# stutter(\"outstanding\") ➞ \"ou... ou... outstanding?\"\n",
    "\n",
    "# Hint :- Assume all input is in lower case and at least two characters long."
   ]
  },
  {
   "cell_type": "code",
   "execution_count": 11,
   "id": "078b6a2f",
   "metadata": {},
   "outputs": [
    {
     "name": "stdout",
     "output_type": "stream",
     "text": [
      "Enter the Word :WORD\n",
      "WORD ➞ WO... WO... WORD?\n",
      "Enter the Word :SELD\n",
      "SELD ➞ SE... SE... SELD?\n",
      "Enter the Word :SHUT\n",
      "SHUT ➞ SH... SH... SHUT?\n"
     ]
    }
   ],
   "source": [
    "def stutterWord():\n",
    "    in_string = input('Enter the Word :')\n",
    "    out_string = in_string.replace(in_string[0:2],((in_string[0:2]+'... ')*2)+ in_string[0:2])  +'?'\n",
    "    print(f'{in_string} ➞ {out_string}')\n",
    "\n",
    "for i in range(3):\n",
    "    stutterWord()"
   ]
  },
  {
   "cell_type": "code",
   "execution_count": null,
   "id": "4aefb0c7",
   "metadata": {},
   "outputs": [],
   "source": [
    "# 2..Create a function that takes an angle in radians and returns the corresponding angle in degrees rounded to one decimal place ?\n",
    "# Examples: radians_to_degrees(1) ➞ 57.3\n",
    "# radians_to_degrees(20) ➞ 1145.9\n",
    "# radians_to_degrees(50) ➞ 2864.8"
   ]
  },
  {
   "cell_type": "code",
   "execution_count": 12,
   "id": "fed53969",
   "metadata": {},
   "outputs": [
    {
     "name": "stdout",
     "output_type": "stream",
     "text": [
      "Enter the angle in Radians: 25\n",
      "25 radian(s) ➞ 1432.4 degrees\n",
      "Enter the angle in Radians: 45\n",
      "45 radian(s) ➞ 2578.3 degrees\n",
      "Enter the angle in Radians: 7\n",
      "7 radian(s) ➞ 401.1 degrees\n"
     ]
    }
   ],
   "source": [
    "import math\n",
    "def radianToDegree():\n",
    "    in_num = int(input('Enter the angle in Radians: '))\n",
    "    out_num = (180/math.pi)*in_num\n",
    "    print(f'{in_num} radian(s) ➞ {out_num:.1f} degrees')\n",
    "\n",
    "for x in range(3):\n",
    "    radianToDegree()"
   ]
  },
  {
   "cell_type": "code",
   "execution_count": 13,
   "id": "38d3f0c8",
   "metadata": {},
   "outputs": [],
   "source": [
    "# 3.In this challenge, establish if a given integer num is a Curzon number. If 1 plus 2 elevated to num is exactly divisible by 1 plus 2 multiplied by num, then num is a Curzon number. Given a non-negative integer num, implement a function that returns True if num is a Curzon number, or False otherwise.\n",
    "# Examples: is_curzon(5) ➞ True # 2 ** 5 + 1 = 33 # 2 * 5 + 1 = 11 # 33 is a multiple of 11 is_curzon(10) ➞ False # 2 ** 10 + 1 = 1025 # 2 * 10 + 1 = 21 # 1025 is not a multiple of 21 is_curzon(14) ➞ True # 2 ** 14 + 1 = 16385 # 2 * 14 + 1 = 29 # 16385 is a multiple of 29"
   ]
  },
  {
   "cell_type": "code",
   "execution_count": 14,
   "id": "d4098eac",
   "metadata": {},
   "outputs": [
    {
     "name": "stdout",
     "output_type": "stream",
     "text": [
      "Enter a number: 4\n",
      "4 is Not a Curzon Number\n",
      "Enter a number: 5\n",
      "5 is a Curzon Number\n",
      "Enter a number: 5\n",
      "5 is a Curzon Number\n",
      "Enter a number: 8\n",
      "8 is Not a Curzon Number\n"
     ]
    }
   ],
   "source": [
    "def checkCurzon():\n",
    "    in_num = int(input(\"Enter a number: \"))\n",
    "    if (pow(2,in_num)+1)%((2*in_num)+1) == 0:\n",
    "        print(f'{in_num} is a Curzon Number')\n",
    "    else:\n",
    "        print(f'{in_num} is Not a Curzon Number')\n",
    "\n",
    "for x in range(4):\n",
    "    checkCurzon()"
   ]
  },
  {
   "cell_type": "code",
   "execution_count": null,
   "id": "ecbc817a",
   "metadata": {},
   "outputs": [],
   "source": [
    "# 4.Given the side length x find the area of a hexagon ?\n",
    "# Examples: area_of_hexagon(1) ➞ 2.6\n",
    "# area_of_hexagon(2) ➞ 10.4\n",
    "# area_of_hexagon(3) ➞ 23.4"
   ]
  },
  {
   "cell_type": "code",
   "execution_count": 15,
   "id": "34b0ced4",
   "metadata": {},
   "outputs": [
    {
     "name": "stdout",
     "output_type": "stream",
     "text": [
      "Enter the side length of a Hexagon: 4\n",
      "Area for Hexagon of sidelength 4 ➞ 41.6\n",
      "Enter the side length of a Hexagon: 8\n",
      "Area for Hexagon of sidelength 8 ➞ 166.3\n"
     ]
    }
   ],
   "source": [
    "import math\n",
    "def areaOfHexagon():\n",
    "    in_num = int(input('Enter the side length of a Hexagon: '))\n",
    "    out_num = ((3*math.sqrt(3))/2)*(pow(in_num,2))\n",
    "    print(f'Area for Hexagon of sidelength {in_num} ➞ {out_num:.1f}')\n",
    "    \n",
    "for x in range(2):\n",
    "    areaOfHexagon()"
   ]
  },
  {
   "cell_type": "code",
   "execution_count": null,
   "id": "bc5ad7d7",
   "metadata": {},
   "outputs": [],
   "source": [
    "# 5.Create a function that returns a base-2 (binary) representation of a base-10 (decimal) string number. To convert is simple:\n",
    "# ((2) means base-2 and (10) means base-10)\n",
    "# 010101001(2) = 1 + 8 + 32 + 128.\n",
    "# Going from right to left, the value of the most right bit is 1, now from that every bit to the left will be x2 the value, value of an 8 bit binary numbers are (256, 128, 64, 32, 16, 8, 4, 2, 1).\n",
    "# Examples:\n",
    "# binary(1) ➞ \"1\" # 1* 1 = 1 binary(5) ➞ \"101\" # 1 1 + 1 4 = 5 binary(10) ➞ \"1010\" # 1 2 + 1 8 = 10"
   ]
  },
  {
   "cell_type": "code",
   "execution_count": 16,
   "id": "4f81688c",
   "metadata": {},
   "outputs": [
    {
     "name": "stdout",
     "output_type": "stream",
     "text": [
      "Enter a Number: 5\n",
      "Binary of 5 ➞ 101\n",
      "Enter a Number: 5\n",
      "Binary of 5 ➞ 101\n",
      "Enter a Number: 8\n",
      "Binary of 8 ➞ 1000\n"
     ]
    }
   ],
   "source": [
    "def getBinary():\n",
    "    in_num = int(input(\"Enter a Number: \"))\n",
    "    out_num = bin(in_num).replace('0b','') \n",
    "    print(f'Binary of {in_num} ➞ {out_num}')\n",
    "\n",
    "for x in range(3):\n",
    "    getBinary()"
   ]
  }
 ],
 "metadata": {
  "kernelspec": {
   "display_name": "Python 3 (ipykernel)",
   "language": "python",
   "name": "python3"
  },
  "language_info": {
   "codemirror_mode": {
    "name": "ipython",
    "version": 3
   },
   "file_extension": ".py",
   "mimetype": "text/x-python",
   "name": "python",
   "nbconvert_exporter": "python",
   "pygments_lexer": "ipython3",
   "version": "3.9.7"
  }
 },
 "nbformat": 4,
 "nbformat_minor": 5
}
